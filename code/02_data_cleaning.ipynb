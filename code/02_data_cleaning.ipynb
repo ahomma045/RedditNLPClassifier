{
 "cells": [
  {
   "cell_type": "markdown",
   "id": "8d2e60db",
   "metadata": {},
   "source": [
    "# Reddit NLP Classifier\n",
    "\n",
    "## Data Cleaning (2/4)"
   ]
  },
  {
   "cell_type": "markdown",
   "id": "424bf2ea",
   "metadata": {},
   "source": [
    "## Contents\n",
    "- [Data Cleaning](#Data-Cleaning)"
   ]
  },
  {
   "cell_type": "markdown",
   "id": "cbf9e16d",
   "metadata": {},
   "source": [
    "## Data Cleaning"
   ]
  },
  {
   "cell_type": "markdown",
   "id": "264e2edb",
   "metadata": {},
   "source": [
    "### All libraries"
   ]
  },
  {
   "cell_type": "code",
   "execution_count": 1,
   "id": "83b6b8ad",
   "metadata": {},
   "outputs": [],
   "source": [
    "# Import libraries\n",
    "import numpy as np\n",
    "import pandas as pd"
   ]
  },
  {
   "cell_type": "code",
   "execution_count": 2,
   "id": "c0b8dfea",
   "metadata": {},
   "outputs": [],
   "source": [
    "# Change to display the max number of rows and columns\n",
    "# Reference: https://kakakakakku.hatenablog.com/entry/2021/04/19/090229\n",
    "pd.set_option('display.max_columns', None)\n",
    "pd.set_option('display.max_rows', None)"
   ]
  },
  {
   "cell_type": "markdown",
   "id": "adeae5f3",
   "metadata": {},
   "source": [
    "### Data Import"
   ]
  },
  {
   "cell_type": "code",
   "execution_count": 3,
   "id": "9ebc0067",
   "metadata": {},
   "outputs": [
    {
     "data": {
      "text/html": [
       "<div>\n",
       "<style scoped>\n",
       "    .dataframe tbody tr th:only-of-type {\n",
       "        vertical-align: middle;\n",
       "    }\n",
       "\n",
       "    .dataframe tbody tr th {\n",
       "        vertical-align: top;\n",
       "    }\n",
       "\n",
       "    .dataframe thead th {\n",
       "        text-align: right;\n",
       "    }\n",
       "</style>\n",
       "<table border=\"1\" class=\"dataframe\">\n",
       "  <thead>\n",
       "    <tr style=\"text-align: right;\">\n",
       "      <th></th>\n",
       "      <th>subreddit</th>\n",
       "      <th>body</th>\n",
       "    </tr>\n",
       "  </thead>\n",
       "  <tbody>\n",
       "    <tr>\n",
       "      <th>0</th>\n",
       "      <td>malefashionadvice</td>\n",
       "      <td>Definitely agree there’s personality there. Se...</td>\n",
       "    </tr>\n",
       "    <tr>\n",
       "      <th>1</th>\n",
       "      <td>malefashionadvice</td>\n",
       "      <td>You're looking for high fashion designers bro....</td>\n",
       "    </tr>\n",
       "    <tr>\n",
       "      <th>2</th>\n",
       "      <td>malefashionadvice</td>\n",
       "      <td>Yeah, I’d add photos if I knew exactly what I ...</td>\n",
       "    </tr>\n",
       "    <tr>\n",
       "      <th>3</th>\n",
       "      <td>malefashionadvice</td>\n",
       "      <td>[cool cardigan](https://i.pinimg.com/736x/80/6...</td>\n",
       "    </tr>\n",
       "    <tr>\n",
       "      <th>4</th>\n",
       "      <td>malefashionadvice</td>\n",
       "      <td>[deleted]</td>\n",
       "    </tr>\n",
       "  </tbody>\n",
       "</table>\n",
       "</div>"
      ],
      "text/plain": [
       "           subreddit                                               body\n",
       "0  malefashionadvice  Definitely agree there’s personality there. Se...\n",
       "1  malefashionadvice  You're looking for high fashion designers bro....\n",
       "2  malefashionadvice  Yeah, I’d add photos if I knew exactly what I ...\n",
       "3  malefashionadvice  [cool cardigan](https://i.pinimg.com/736x/80/6...\n",
       "4  malefashionadvice                                          [deleted]"
      ]
     },
     "execution_count": 3,
     "metadata": {},
     "output_type": "execute_result"
    }
   ],
   "source": [
    "# Read in the data\n",
    "df = pd.read_csv('../data/subreddits_combined.csv')\n",
    "df.head()"
   ]
  },
  {
   "cell_type": "code",
   "execution_count": 4,
   "id": "62ca4bff",
   "metadata": {},
   "outputs": [
    {
     "data": {
      "text/plain": [
       "(5571, 2)"
      ]
     },
     "execution_count": 4,
     "metadata": {},
     "output_type": "execute_result"
    }
   ],
   "source": [
    "# Check data shape\n",
    "df.shape"
   ]
  },
  {
   "cell_type": "markdown",
   "id": "a55df80e",
   "metadata": {},
   "source": [
    "### Handle `NaN` / [removed] values"
   ]
  },
  {
   "cell_type": "markdown",
   "id": "85e433f0",
   "metadata": {},
   "source": [
    "`NaN` values are dropped from the dataset."
   ]
  },
  {
   "cell_type": "code",
   "execution_count": 5,
   "id": "86d25b94",
   "metadata": {},
   "outputs": [
    {
     "data": {
      "text/plain": [
       "body         1\n",
       "subreddit    0\n",
       "dtype: int64"
      ]
     },
     "execution_count": 5,
     "metadata": {},
     "output_type": "execute_result"
    }
   ],
   "source": [
    "# Review any missing values \n",
    "df.isnull().sum().sort_values(ascending = False)"
   ]
  },
  {
   "cell_type": "code",
   "execution_count": 6,
   "id": "5cc99fc2",
   "metadata": {},
   "outputs": [
    {
     "data": {
      "text/plain": [
       "subreddit    0\n",
       "body         0\n",
       "dtype: int64"
      ]
     },
     "execution_count": 6,
     "metadata": {},
     "output_type": "execute_result"
    }
   ],
   "source": [
    "# Drop `Nan` values \n",
    "df.dropna(inplace=True)\n",
    "\n",
    "# Review \n",
    "df.isnull().sum()"
   ]
  },
  {
   "cell_type": "markdown",
   "id": "249a21bf",
   "metadata": {},
   "source": [
    "Rows with `[removed]` in `body` columns are also dropped from the dataset. "
   ]
  },
  {
   "cell_type": "code",
   "execution_count": 7,
   "id": "c1ad825d",
   "metadata": {},
   "outputs": [
    {
     "data": {
      "text/plain": [
       "(2, 2)"
      ]
     },
     "execution_count": 7,
     "metadata": {},
     "output_type": "execute_result"
    }
   ],
   "source": [
    "# Review the number of rows with [removed] body comments\n",
    "df[df['body'] == '[removed]'].shape"
   ]
  },
  {
   "cell_type": "code",
   "execution_count": 8,
   "id": "61199b96",
   "metadata": {},
   "outputs": [
    {
     "data": {
      "text/plain": [
       "(5568, 2)"
      ]
     },
     "execution_count": 8,
     "metadata": {},
     "output_type": "execute_result"
    }
   ],
   "source": [
    "# Remove [removed] data\n",
    "df = df[df['body']!='[removed]']\n",
    "\n",
    "# Check data shape\n",
    "df.shape"
   ]
  },
  {
   "cell_type": "markdown",
   "id": "b381db9a",
   "metadata": {},
   "source": [
    "### Handle duplicates posts"
   ]
  },
  {
   "cell_type": "markdown",
   "id": "f009ef3b",
   "metadata": {},
   "source": [
    "Any duplicates posts are removed from the dataset. "
   ]
  },
  {
   "cell_type": "code",
   "execution_count": 9,
   "id": "b42664b8",
   "metadata": {},
   "outputs": [
    {
     "data": {
      "text/plain": [
       "False    5563\n",
       "True        5\n",
       "Name: body, dtype: int64"
      ]
     },
     "execution_count": 9,
     "metadata": {},
     "output_type": "execute_result"
    }
   ],
   "source": [
    "# Check the number of duplicated rows in title \n",
    "# Reference: https://note.nkmk.me/python-pandas-duplicated-drop-duplicates/\n",
    "df['body'].duplicated().value_counts()"
   ]
  },
  {
   "cell_type": "code",
   "execution_count": 10,
   "id": "f3b5635f",
   "metadata": {},
   "outputs": [
    {
     "data": {
      "text/plain": [
       "(5563, 2)"
      ]
     },
     "execution_count": 10,
     "metadata": {},
     "output_type": "execute_result"
    }
   ],
   "source": [
    "# Drop duplicated rows \n",
    "df = df.drop_duplicates(subset=('body'), keep = 'last')\n",
    "df.shape"
   ]
  },
  {
   "cell_type": "markdown",
   "id": "bfa2c84b",
   "metadata": {},
   "source": [
    "### Adjusted the number of rows between two subreddits"
   ]
  },
  {
   "cell_type": "code",
   "execution_count": 11,
   "id": "6f8d8558",
   "metadata": {},
   "outputs": [
    {
     "data": {
      "text/plain": [
       "femalefashionadvice    2791\n",
       "malefashionadvice      2772\n",
       "Name: subreddit, dtype: int64"
      ]
     },
     "execution_count": 11,
     "metadata": {},
     "output_type": "execute_result"
    }
   ],
   "source": [
    "# Check the number of data by subreddits\n",
    "df['subreddit'].value_counts()"
   ]
  },
  {
   "cell_type": "code",
   "execution_count": 12,
   "id": "ffb11fcb",
   "metadata": {},
   "outputs": [
    {
     "data": {
      "text/plain": [
       "malefashionadvice      2772\n",
       "femalefashionadvice    2772\n",
       "Name: subreddit, dtype: int64"
      ]
     },
     "execution_count": 12,
     "metadata": {},
     "output_type": "execute_result"
    }
   ],
   "source": [
    "# Delete last (2791-2772) rows to align the number of posts between two subreddits\n",
    "# Reference: https://sparkbyexamples.com/pandas/pandas-drop-last-n-rows-from-dataframe\n",
    "df.drop(df.tail(2791-2772).index, inplace=True)\n",
    "df['subreddit'].value_counts()"
   ]
  },
  {
   "cell_type": "markdown",
   "id": "f35d37f3",
   "metadata": {},
   "source": [
    "### Save dataset"
   ]
  },
  {
   "cell_type": "code",
   "execution_count": 13,
   "id": "3bd0f7e0",
   "metadata": {},
   "outputs": [],
   "source": [
    "# Save dataset to csv\n",
    "df.to_csv('../data/subreddits_combined_clean.csv', index = False)"
   ]
  },
  {
   "cell_type": "code",
   "execution_count": null,
   "id": "58b2d8ef",
   "metadata": {},
   "outputs": [],
   "source": []
  }
 ],
 "metadata": {
  "kernelspec": {
   "display_name": "Python 3 (ipykernel)",
   "language": "python",
   "name": "python3"
  },
  "language_info": {
   "codemirror_mode": {
    "name": "ipython",
    "version": 3
   },
   "file_extension": ".py",
   "mimetype": "text/x-python",
   "name": "python",
   "nbconvert_exporter": "python",
   "pygments_lexer": "ipython3",
   "version": "3.9.13"
  }
 },
 "nbformat": 4,
 "nbformat_minor": 5
}
